{
 "cells": [
  {
   "cell_type": "markdown",
   "metadata": {},
   "source": [
    "# Astrometry of IRS16SW"
   ]
  },
  {
   "cell_type": "code",
   "execution_count": 1,
   "metadata": {},
   "outputs": [
    {
     "name": "stdout",
     "output_type": "stream",
     "text": [
      "Could not import regions, which is required for some of the functionalities of this module.\n"
     ]
    }
   ],
   "source": [
    "import glob\n",
    "import numpy as np\n",
    "import matplotlib.pyplot as plt\n",
    "from gravity_obs.gravidata import oifits\n",
    "from astropy.io import fits\n",
    "from tqdm import tqdm\n",
    "\n",
    "import matplotlib as mpl\n",
    "mpl.rc(\"xtick\", direction=\"in\", labelsize=16)\n",
    "mpl.rc(\"ytick\", direction=\"in\", labelsize=16)\n",
    "mpl.rc(\"xtick.major\", width=1., size=8)\n",
    "mpl.rc(\"ytick.major\", width=1., size=8)\n",
    "mpl.rc(\"xtick.minor\", width=1., size=5)\n",
    "mpl.rc(\"ytick.minor\", width=1., size=5)\n",
    "\n",
    "# add magic functions to reload the modules automatically\n",
    "%load_ext autoreload\n",
    "%autoreload 2"
   ]
  },
  {
   "cell_type": "code",
   "execution_count": 2,
   "metadata": {},
   "outputs": [
    {
     "name": "stderr",
     "output_type": "stream",
     "text": [
      "2024-10-27 21:51:03,951 - SciVisList - INFO - [SciVisList] processing [0] 2024-07-25T02:51:54, swap: False\n",
      "2024-10-27 21:51:04,549 - SciVisList - INFO - [SciVisList] processing [1] 2024-07-25T02:59:27, swap: True\n",
      "2024-10-27 21:51:05,157 - SciVisList - INFO - [SciVisList] processing [2] 2024-07-25T03:02:06, swap: True\n",
      "2024-10-27 21:51:05,758 - SciVisList - INFO - [SciVisList] processing [3] 2024-07-25T03:09:00, swap: False\n"
     ]
    }
   ],
   "source": [
    "files = sorted(glob.glob(f'data/IRS16SW/*.fits'))\n",
    "sciList = oifits.SciVisList(files, normalize=True, log_name=f'results/IRS16SW')"
   ]
  },
  {
   "cell_type": "code",
   "execution_count": 3,
   "metadata": {},
   "outputs": [],
   "source": [
    "#met_jump = {\n",
    "#    1 : [1.0, 0, 0, 0], \n",
    "#    2 : [1.0, 0, 0, 0]}\n",
    "#sciList.correct_met_jump_all(met_jump)"
   ]
  },
  {
   "cell_type": "code",
   "execution_count": 3,
   "metadata": {},
   "outputs": [
    {
     "name": "stderr",
     "output_type": "stream",
     "text": [
      "2024-10-27 21:51:25,649 - SciVisList - INFO - Plotting the visibility data\n"
     ]
    },
    {
     "name": "stderr",
     "output_type": "stream",
     "text": [
      "2024-10-27 21:51:28,329 - SciVisList - INFO - Fitting for the closure...\n",
      "2024-10-27 21:51:28,348 - SciVisList - INFO - Fitting for the closure...\n",
      "2024-10-27 21:51:28,424 - SciVisList - INFO - Fitting for the closure...\n",
      "2024-10-27 21:51:28,440 - SciVisList - INFO - Fitting for the closure...\n",
      "2024-10-27 21:51:28,542 - SciVisList - INFO - Fitting for the closure...\n",
      "2024-10-27 21:51:28,559 - SciVisList - INFO - Fitting for the closure...\n",
      "2024-10-27 21:51:28,629 - SciVisList - INFO - Fitting for the closure...\n",
      "2024-10-27 21:51:28,646 - SciVisList - INFO - Fitting for the closure...\n",
      "2024-10-27 21:51:28,718 - SciVisList - INFO - All data plotted!\n",
      "2024-10-27 21:51:28,718 - SciVisList - INFO - Grid search for astrometry solution\n",
      "Initial grid search: 100%|██████████| 100/100 [00:06<00:00, 14.54it/s]\n",
      "Zoomed grid search: 100%|██████████| 100/100 [00:06<00:00, 14.63it/s]\n",
      "2024-10-27 21:51:42,447 - SciVisList - INFO - First-run grid search: (-1.45, 1.45)\n",
      "2024-10-27 21:51:42,448 - SciVisList - INFO - Measure metrology zero point\n",
      "2024-10-27 21:51:42,488 - SciVisList - INFO - Fitting for the closure...\n",
      "2024-10-27 21:51:43,083 - SciVisList - INFO - Correct the metrology zeropoint\n",
      "2024-10-27 21:51:43,113 - SciVisList - INFO - Plotting the metrology zeropoint corrected data\n",
      "2024-10-27 21:51:43,588 - SciVisList - INFO - Final grid search for astrometry solution\n",
      "Initial grid search: 100%|██████████| 100/100 [00:06<00:00, 15.14it/s]\n",
      "Zoomed grid search: 100%|██████████| 100/100 [00:06<00:00, 15.40it/s]\n",
      "2024-10-27 21:51:56,704 - SciVisList - INFO - Final grid search: (-1.45, 1.33)\n",
      "2024-10-27 21:51:56,705 - SciVisList - INFO - Measured FT-SC vector: (301.18, -1559.29)\n",
      "2024-10-27 21:51:56,705 - SciVisList - INFO - Calculate the group delay astrometry\n",
      "2024-10-27 21:51:56,976 - SciVisList - INFO - GD astrometry [0-1]: -1.54, 1.41\n",
      "2024-10-27 21:51:56,999 - SciVisList - INFO - GD astrometry [0-1]: -1.55, 1.42\n",
      "2024-10-27 21:51:57,225 - SciVisList - INFO - GD astrometry [0-2]: -1.56, 1.51\n",
      "2024-10-27 21:51:57,244 - SciVisList - INFO - GD astrometry [0-2]: -1.56, 1.51\n",
      "2024-10-27 21:51:57,451 - SciVisList - INFO - GD astrometry [3-1]: -1.48, 1.31\n",
      "2024-10-27 21:51:57,468 - SciVisList - INFO - GD astrometry [3-1]: -1.48, 1.32\n",
      "2024-10-27 21:51:57,602 - SciVisList - INFO - GD astrometry [3-2]: -1.49, 1.40\n",
      "2024-10-27 21:51:57,619 - SciVisList - INFO - GD astrometry [3-2]: -1.50, 1.41\n",
      "2024-10-27 21:51:57,962 - SciVisList - INFO - OPD_MET_ZERO_FC: \n",
      "2024-10-27 21:51:57,962 - SciVisList - INFO - 90.56, 874.42, 808.29, 0.00\n",
      "2024-10-27 21:51:57,962 - SciVisList - INFO - 89.34, 873.68, 807.50, 0.00\n",
      "2024-10-27 21:51:57,963 - SciVisList - INFO - Astrometry swap finished!\n",
      "2024-10-27 21:51:57,963 - SciVisList - INFO - [run_swap_astrometry] pipeline completed!\n"
     ]
    }
   ],
   "source": [
    "sciList.run_swap_astrometry(report_name='results/IRS16SW')"
   ]
  },
  {
   "cell_type": "code",
   "execution_count": null,
   "metadata": {},
   "outputs": [],
   "source": []
  }
 ],
 "metadata": {
  "kernelspec": {
   "display_name": "base",
   "language": "python",
   "name": "python3"
  },
  "language_info": {
   "codemirror_mode": {
    "name": "ipython",
    "version": 3
   },
   "file_extension": ".py",
   "mimetype": "text/x-python",
   "name": "python",
   "nbconvert_exporter": "python",
   "pygments_lexer": "ipython3",
   "version": "3.10.6"
  }
 },
 "nbformat": 4,
 "nbformat_minor": 2
}
